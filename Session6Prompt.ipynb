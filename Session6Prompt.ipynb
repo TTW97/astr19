{
 "cells": [
  {
   "cell_type": "markdown",
   "id": "34d80b14-2130-493d-8fb8-37350017b49e",
   "metadata": {},
   "source": [
    "In this notebook, we will:\n",
    "1. Define a function to return sin(x)\n",
    "2. Define a function to return cos(x)\n",
    "3. Tabulate sin(x) and cos(x) values over the interval [0, 2]\n",
    "4. Display the first 10 rows of the result using a for loop"
   ]
  },
  {
   "cell_type": "code",
   "execution_count": 1,
   "id": "99a34fd9-3910-4d3b-a8a5-0b8f661b7d76",
   "metadata": {},
   "outputs": [],
   "source": [
    "import math\n",
    "\n",
    "def sine(x):\n",
    "    return math.sin(x)"
   ]
  },
  {
   "cell_type": "markdown",
   "id": "49af6518-92f2-4a93-be43-4836bd37ec3b",
   "metadata": {},
   "source": [
    "Now we define a function to return the cosine of x using the math.cos() function."
   ]
  },
  {
   "cell_type": "code",
   "execution_count": 2,
   "id": "acd6b1fc-5a94-411d-8e63-48e910547253",
   "metadata": {},
   "outputs": [],
   "source": [
    "def cosine(x):\n",
    "  \n",
    "    return math.cos(x)"
   ]
  },
  {
   "cell_type": "markdown",
   "id": "1dc7150a-3f77-423c-adb6-c26c85c32443",
   "metadata": {},
   "source": [
    "In this cell, we'll create a list of values of x between 0 and 2, and compute sin(x) and cos(x) using the previously defined functions."
   ]
  },
  {
   "cell_type": "code",
   "execution_count": 3,
   "id": "a79d3179-d28a-4fb4-83ac-146a3e58cf8d",
   "metadata": {},
   "outputs": [],
   "source": [
    "num_entries = 1000\n",
    "x_values = [i * (2 / (num_entries - 1)) for i in range(num_entries)]\n",
    "sin_values = [sine(x) for x in x_values]\n",
    "cos_values = [cosine(x) for x in x_values]"
   ]
  },
  {
   "cell_type": "markdown",
   "id": "93879bc6-9714-4950-aae4-478180f03041",
   "metadata": {},
   "source": [
    "Using a for loop, we print the first 10 values of x, sin(x), and cos(x) in columns."
   ]
  },
  {
   "cell_type": "code",
   "execution_count": 4,
   "id": "56b69181-e63b-4d01-a7df-fbf41fe66703",
   "metadata": {},
   "outputs": [
    {
     "name": "stdout",
     "output_type": "stream",
     "text": [
      "         x          sin(x)          cos(x)\n",
      "----------------------------------------\n",
      "  0.000000        0.000000        1.000000\n",
      "  0.002002        0.002002        0.999998\n",
      "  0.004004        0.004004        0.999992\n",
      "  0.006006        0.006006        0.999982\n",
      "  0.008008        0.008008        0.999968\n",
      "  0.010010        0.010010        0.999950\n",
      "  0.012012        0.012012        0.999928\n",
      "  0.014014        0.014014        0.999902\n",
      "  0.016016        0.016015        0.999872\n",
      "  0.018018        0.018017        0.999838\n"
     ]
    }
   ],
   "source": [
    "print(f\"{'x':>10} {'sin(x)':>15} {'cos(x)':>15}\")\n",
    "print(\"-\" * 40)\n",
    "for i in range(10):\n",
    "    print(f\"{x_values[i]:10.6f} {sin_values[i]:15.6f} {cos_values[i]:15.6f}\")"
   ]
  }
 ],
 "metadata": {
  "kernelspec": {
   "display_name": "Python 3 (ipykernel)",
   "language": "python",
   "name": "python3"
  },
  "language_info": {
   "codemirror_mode": {
    "name": "ipython",
    "version": 3
   },
   "file_extension": ".py",
   "mimetype": "text/x-python",
   "name": "python",
   "nbconvert_exporter": "python",
   "pygments_lexer": "ipython3",
   "version": "3.13.2"
  }
 },
 "nbformat": 4,
 "nbformat_minor": 5
}
